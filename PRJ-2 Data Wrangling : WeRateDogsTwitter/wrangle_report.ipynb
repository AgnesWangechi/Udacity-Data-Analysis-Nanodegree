{
 "cells": [
  {
   "cell_type": "markdown",
   "metadata": {},
   "source": [
    "## WeRateDogs Twitter Project\n",
    "### Data Wrangling Report\n"
   ]
  },
  {
   "cell_type": "markdown",
   "metadata": {},
   "source": [
    "The aim of this project was to to analyse the WeRateDogs twitter posts upto August 1,2017.\n",
    "\n",
    "**Gathering of data**"
   ]
  },
  {
   "cell_type": "markdown",
   "metadata": {},
   "source": [
    "Three datasets were used for this project.\n",
    "\n",
    "* Twitter Archive Data of the weratedogs twitter account, **twitter_archive_enhanced.csv** was provided on the Udacity website.\n",
    "\n",
    "* **image_predictions.tsv** file containing predictions and images was downloaded programmatically, using the request library provided by python.\n",
    "\n",
    "* Additional information on the tweets in the Twitter Archive Data, this was to be scrapped using Tweepy library provided by python.\n",
    "\n",
    "I couldn't get developer access to tweepy API so I used the already provided python code from Udacity website. The python code was not successful therefore the dataset **tweet_json.txt** was downloaded from the website."
   ]
  },
  {
   "cell_type": "markdown",
   "metadata": {},
   "source": [
    "**Accessing**"
   ]
  },
  {
   "cell_type": "markdown",
   "metadata": {},
   "source": [
    "The datasets were assesed visually with the aid of text editor and Jupyter Notebook while the programmatic assessment was done using pandas on the Jupyter Notebook.\n",
    "\n",
    "**Quality Issues** and **Tidiness Issues** were observed, cleaned and documented as follows:"
   ]
  },
  {
   "cell_type": "markdown",
   "metadata": {},
   "source": [
    "**Quality Issues:**"
   ]
  },
  {
   "cell_type": "markdown",
   "metadata": {},
   "source": [
    "1. There are tweet IDs that have `retweeted_status_id`, `retweeted_status_user_id`, and `retweeted_status_timestamp values`.\n",
    "\n",
    "> These ids are that of retweets hence removed since they won't be used for our analysis."
   ]
  },
  {
   "cell_type": "markdown",
   "metadata": {},
   "source": [
    "2. Tweet_id column datatype are integers in all datatypes instead of strings.\n",
    "\n",
    "> `Tweet_id`datatype was converted to string datatype."
   ]
  },
  {
   "cell_type": "markdown",
   "metadata": {},
   "source": [
    "3. `tweet_id` column should be the index column in all datasets.\n",
    "\n",
    "> The `tweet_id` column is common in all datasets. The column was made the index column which is necessary during merging. "
   ]
  },
  {
   "cell_type": "markdown",
   "metadata": {},
   "source": [
    "4. Presence of retweets columns that are not needed.\n",
    "\n",
    "> Columns that contain retweets were dropped."
   ]
  },
  {
   "cell_type": "markdown",
   "metadata": {},
   "source": [
    "5. The configuration accuracy is to be in percentage.\n",
    "\n",
    "> For easier understanding, the columns with configuration accuracy were converted to percentage."
   ]
  },
  {
   "cell_type": "markdown",
   "metadata": {},
   "source": [
    "6. Inaccurate dog names in the `name` column and NaN values represented by the word 'None'.\n",
    "\n",
    "> Values that do not represent accurate do names were replaces with Nan using the Numpy library."
   ]
  },
  {
   "cell_type": "markdown",
   "metadata": {},
   "source": [
    "7. `in_reply_to_status_id`, `in_reply_to_user_id` and `expanded_urls` columns contain mostly missing values.\n",
    "\n",
    "> These columns were dropped since they are not necessary for analysis"
   ]
  },
  {
   "cell_type": "markdown",
   "metadata": {},
   "source": [
    "8. Presence of retweets (duplicated rows in column jpg_url)\n",
    "\n",
    " > Dropped all the duplicated rows"
   ]
  },
  {
   "cell_type": "markdown",
   "metadata": {},
   "source": [
    "**Tidiness issues**"
   ]
  },
  {
   "cell_type": "markdown",
   "metadata": {},
   "source": [
    "1. `doggo`, `floofer`, `pupper`, `puppo` columns should be narrowed down to one column with various categories.\n",
    "\n",
    "> Dog_stage column was created to store the contents of the four column and then the four columns were dropped."
   ]
  },
  {
   "cell_type": "markdown",
   "metadata": {},
   "source": [
    "2. Merge the three datasets.\n",
    "\n",
    "> The three datasets were merged without duplicated columns"
   ]
  },
  {
   "cell_type": "markdown",
   "metadata": {},
   "source": [
    "This concludes the data wrangling process"
   ]
  }
 ],
 "metadata": {
  "kernelspec": {
   "display_name": "Python 3 (ipykernel)",
   "language": "python",
   "name": "python3"
  },
  "language_info": {
   "codemirror_mode": {
    "name": "ipython",
    "version": 3
   },
   "file_extension": ".py",
   "mimetype": "text/x-python",
   "name": "python",
   "nbconvert_exporter": "python",
   "pygments_lexer": "ipython3",
   "version": "3.9.12"
  }
 },
 "nbformat": 4,
 "nbformat_minor": 2
}
